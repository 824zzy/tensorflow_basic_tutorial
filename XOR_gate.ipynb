{
 "cells": [
  {
   "cell_type": "code",
   "execution_count": 1,
   "metadata": {
    "collapsed": false
   },
   "outputs": [],
   "source": [
    "import tensorflow as tf\n",
    "import numpy as np\n",
    "import matplotlib.pyplot as plt\n",
    "%matplotlib inline"
   ]
  },
  {
   "cell_type": "code",
   "execution_count": 2,
   "metadata": {
    "collapsed": false
   },
   "outputs": [],
   "source": [
    "class FNN(object):\n",
    "    \"\"\"Build a general FeedForward neural network\n",
    "    Parameters\n",
    "    ----------\n",
    "    learning_rate : float\n",
    "    drop_out : float\n",
    "    Layers : list\n",
    "        The number of layers\n",
    "    N_hidden : list\n",
    "        The numbers of nodes in layers\n",
    "    D_input : int\n",
    "        Input dimension\n",
    "    D_label : int\n",
    "        Label dimension\n",
    "    Task_type : string\n",
    "        'regression' or 'classification'\n",
    "    L2_lambda : float\n",
    "        \n",
    "    Functions\n",
    "    -------\n",
    "    .shufflelists(list) : shuffle elements in different lists in same order\n",
    "    .train_step : train operation\n",
    "    .output : output of the neural network\n",
    "    \n",
    "\n",
    "    \"\"\"\n",
    "    def __init__(self, learning_rate=1e-4, drop_keep=1.0, Layers=2, N_hidden=[100,100], D_input=100, D_label=100, Task_type='regression', L2_lambda=0.0):\n",
    "        \n",
    "        #var\n",
    "        self.learning_rate = learning_rate\n",
    "        self.drop_keep = drop_keep\n",
    "        self.Layers = Layers\n",
    "        self.N_hidden = N_hidden\n",
    "        self.D_input = D_input\n",
    "        self.D_label = D_label\n",
    "        self.Task_type = Task_type\n",
    "        self.L2_lambda = L2_lambda\n",
    "        \n",
    "        \n",
    "        # Placeholders\n",
    "        with tf.name_scope('input'):\n",
    "            self.inputs = tf.placeholder(tf.float32, [None, D_input], name=\"inputs\")\n",
    "        with tf.name_scope('label'):\n",
    "            self.labels = tf.placeholder(tf.float32, [None, D_label], name=\"labels\")\n",
    "        with tf.name_scope('dropout_keep'):\n",
    "            self.drop_keep_rate = tf.placeholder(tf.float32, name=\"dropout_keep\")\n",
    "        \n",
    "        # accumulate l2 regularization\n",
    "        self.l2_penalty = tf.constant(0.0)\n",
    "        \n",
    "        self.build('FNN')\n",
    "        \n",
    "    def weight_init(self,shape):\n",
    "        # shape : list [in_dim, out_dim]\n",
    "        # can change initialization here\n",
    "        initial = tf.truncated_normal(shape, stddev=0.1)\n",
    "        return tf.Variable(initial)\n",
    "\n",
    "    def bias_init(self,shape):\n",
    "        # can change initialization here\n",
    "        initial = tf.constant(0.1, shape=shape)\n",
    "        return tf.Variable(initial)\n",
    "    \n",
    "    def variable_summaries(self, var, name):\n",
    "        with tf.name_scope(name+'summaries'):\n",
    "            mean = tf.reduce_mean(var)\n",
    "            tf.scalar_summary('mean/' + name, mean)\n",
    "        with tf.name_scope(name+'stddev'):\n",
    "            stddev = tf.sqrt(tf.reduce_mean(tf.square(var - mean)))\n",
    "        tf.scalar_summary('stddev/' + name, stddev)\n",
    "        tf.scalar_summary('max/' + name, tf.reduce_max(var))\n",
    "        tf.scalar_summary('min/' + name, tf.reduce_min(var))\n",
    "        tf.histogram_summary(name, var)\n",
    "\n",
    "    def layer(self,in_tensor, in_dim, out_dim, layer_name, act=tf.nn.relu):\n",
    "        with tf.name_scope(layer_name):\n",
    "            with tf.name_scope(layer_name+'weights'):\n",
    "                weights = self.weight_init([in_dim, out_dim])\n",
    "                self.variable_summaries(weights, layer_name + '/weights')\n",
    "            with tf.name_scope(layer_name+'biases'):\n",
    "                biases = self.bias_init([out_dim])\n",
    "                self.variable_summaries(biases, layer_name + '/biases')\n",
    "            with tf.name_scope(layer_name+'Wx_plus_b'):\n",
    "                pre_activate = tf.matmul(in_tensor, weights) + biases\n",
    "                tf.histogram_summary(layer_name + '/pre_activations', pre_activate)\n",
    "            activations = act(pre_activate, name='activation')\n",
    "            tf.histogram_summary(layer_name + '/activations', activations)\n",
    "        return activations, tf.nn.l2_loss(weights)\n",
    "\n",
    "    def drop_layer(self,in_tensor):\n",
    "            #tf.scalar_summary('dropout_keep', self.drop_keep_rate)\n",
    "        dropped = tf.nn.dropout(in_tensor, self.drop_keep_rate)\n",
    "        return dropped\n",
    "\n",
    "    def build(self, prefix):\n",
    "        # build networks\n",
    "\n",
    "        incoming = self.inputs\n",
    "        layer_nodes = [self.D_input] + self.N_hidden\n",
    "        \n",
    "        #hidden layers\n",
    "        self.hid_layers=[]\n",
    "        \n",
    "        for l in range(self.Layers):\n",
    "            with tf.name_scope('hid_layer%s' %l):\n",
    "                incoming,l2_loss= self.layer(incoming,layer_nodes[l],layer_nodes[l+1],prefix+str(l),act=tf.nn.sigmoid)\n",
    "                self.l2_penalty+=l2_loss\n",
    "            self.variable_summaries(incoming, 'hid_%s' %l)\n",
    "            print('Add dense layer: relu with drop_keep:%s' %self.drop_keep)\n",
    "            print('    %sD --> %sD' %(layer_nodes[l],layer_nodes[l+1]))\n",
    "            self.hid_layers.append(incoming)\n",
    "            #drop out layer\n",
    "            incoming = self.drop_layer(incoming)\n",
    "            \n",
    "        #output layer\n",
    "        with tf.name_scope('output_layer'):\n",
    "            self.output,l2_loss= self.layer(incoming,layer_nodes[-1],self.D_label, layer_name='output',act=tf.nn.sigmoid)\n",
    "            self.variable_summaries(self.output, 'output')\n",
    "            self.l2_penalty+=l2_loss\n",
    "            tf.scalar_summary('l2_loss',self.l2_penalty)\n",
    "        print('Add output layer: linear')\n",
    "        print('    %sD --> %sD' %(layer_nodes[-1],self.D_label))\n",
    "        \n",
    "        #loss\n",
    "        if self.Task_type=='regression':\n",
    "            with tf.name_scope('SSE'):\n",
    "                self.loss=tf.reduce_mean(tf.nn.l2_loss((self.output - self.labels)))\n",
    "                tf.scalar_summary('loss', self.loss)\n",
    "        else:\n",
    "            entropy = tf.nn.softmax_cross_entropy_with_logits(self.output, self.labels)\n",
    "            with tf.name_scope('cross entropy'):\n",
    "                self.loss = tf.reduce_mean(entropy)\n",
    "                tf.scalar_summary('loss', self.loss)\n",
    "            with tf.name_scope('accuracy'):\n",
    "                correct_prediction = tf.equal(tf.argmax(self.output, 1), tf.argmax(self.labels, 1))\n",
    "                self.accuracy = tf.reduce_mean(tf.cast(correct_prediction, tf.float32))\n",
    "                tf.scalar_summary('accuracy', self.accuracy)\n",
    "        #train\n",
    "        with tf.name_scope('train'):\n",
    "            self.train_step = tf.train.AdamOptimizer(self.learning_rate).minimize(self.loss + self.l2_penalty*self.L2_lambda)\n",
    "            tf.scalar_summary('total_loss', self.loss + self.l2_penalty*self.L2_lambda)\n",
    "    \n",
    "    def shufflelists(self,lists):\n",
    "        ri=np.random.permutation(len(lists[1]))\n",
    "        out=[]\n",
    "        for l in lists:\n",
    "            out.append(l[ri])\n",
    "        return out\n",
    "    "
   ]
  },
  {
   "cell_type": "code",
   "execution_count": 3,
   "metadata": {
    "collapsed": true
   },
   "outputs": [],
   "source": [
    "inputs=[[0,0],[0,1],[1,0],[1,1]]\n",
    "outputs=[0,1,1,0]\n",
    "X=np.array(inputs).reshape((4,1,2)).astype('int16')\n",
    "Y=np.array(outputs).reshape((4,1,1)).astype('int16')"
   ]
  },
  {
   "cell_type": "code",
   "execution_count": 4,
   "metadata": {
    "collapsed": false
   },
   "outputs": [
    {
     "name": "stdout",
     "output_type": "stream",
     "text": [
      "Add dense layer: relu with drop_keep:1.0\n",
      "    2D --> 2D\n",
      "Add output layer: linear\n",
      "    2D --> 1D\n"
     ]
    }
   ],
   "source": [
    "a=FNN(1e-4, 1.0, 1, [2], 2, 1)"
   ]
  },
  {
   "cell_type": "code",
   "execution_count": 5,
   "metadata": {
    "collapsed": false
   },
   "outputs": [],
   "source": [
    "#sess.close()\n",
    "sess = tf.InteractiveSession()\n",
    "tf.initialize_all_variables().run()\n",
    "merged = tf.merge_all_summaries()\n",
    "train_writer = tf.train.SummaryWriter('log' + '/train',sess.graph)"
   ]
  },
  {
   "cell_type": "code",
   "execution_count": 6,
   "metadata": {
    "collapsed": false
   },
   "outputs": [],
   "source": [
    "k=0.0\n",
    "for i in range(100000):\n",
    "    k+=1\n",
    "    summary, _ = sess.run([merged,a.train_step],feed_dict={a.inputs:X.reshape((4,2)),a.labels:Y.reshape((4,1)),a.drop_keep_rate:1.0})\n",
    "    train_writer.add_summary(summary, k)"
   ]
  },
  {
   "cell_type": "code",
   "execution_count": 7,
   "metadata": {
    "collapsed": false
   },
   "outputs": [
    {
     "name": "stdout",
     "output_type": "stream",
     "text": [
      "[[ 0.03217763]\n",
      " [ 0.95467514]\n",
      " [ 0.95464891]\n",
      " [ 0.03197   ]]\n"
     ]
    },
    {
     "data": {
      "text/plain": [
       "[<matplotlib.lines.Line2D at 0x7fd97c0eb8d0>]"
      ]
     },
     "execution_count": 7,
     "metadata": {},
     "output_type": "execute_result"
    },
    {
     "data": {
      "image/png": "[encoded data removed]",
      "text/plain": [
       "<matplotlib.figure.Figure at 0x7fd99a6df7d0>"
      ]
     },
     "metadata": {},
     "output_type": "display_data"
    }
   ],
   "source": [
    "pY=sess.run(a.output,feed_dict={a.inputs:X.reshape((4,2)),a.drop_keep_rate:1.0})\n",
    "print(pY)\n",
    "plt.plot(pY,'o')"
   ]
  },
  {
   "cell_type": "code",
   "execution_count": 8,
   "metadata": {
    "collapsed": false
   },
   "outputs": [
    {
     "name": "stdout",
     "output_type": "stream",
     "text": [
      "[[ 0.99229628  0.99256504]\n",
      " [ 0.99999952  0.0071484 ]\n",
      " [ 0.00770335  0.99999964]\n",
      " [ 0.99251491  0.99335986]]\n"
     ]
    },
    {
     "data": {
      "text/plain": [
       "[<matplotlib.lines.Line2D at 0x7fd97c028250>,\n",
       " <matplotlib.lines.Line2D at 0x7fd97c028350>]"
      ]
     },
     "execution_count": 8,
     "metadata": {},
     "output_type": "execute_result"
    },
    {
     "data": {
      "image/png": "[encoded data removed]",
      "text/plain": [
       "<matplotlib.figure.Figure at 0x7fd99ae061d0>"
      ]
     },
     "metadata": {},
     "output_type": "display_data"
    }
   ],
   "source": [
    "pY=sess.run(a.hid_layers[0],feed_dict={a.inputs:X.reshape((4,2)),a.drop_keep_rate:1.0})\n",
    "print(pY)\n",
    "plt.plot(pY,'o')"
   ]
  }
 ],
 "metadata": {
  "kernelspec": {
   "display_name": "Python 2",
   "language": "python",
   "name": "python2"
  },
  "language_info": {
   "codemirror_mode": {
    "name": "ipython",
    "version": 2
   },
   "file_extension": ".py",
   "mimetype": "text/x-python",
   "name": "python",
   "nbconvert_exporter": "python",
   "pygments_lexer": "ipython2",
   "version": "2.7.12"
  }
 },
 "nbformat": 4,
 "nbformat_minor": 1
}
